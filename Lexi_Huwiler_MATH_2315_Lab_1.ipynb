{
  "nbformat": 4,
  "nbformat_minor": 0,
  "metadata": {
    "colab": {
      "provenance": []
    },
    "kernelspec": {
      "name": "python3",
      "display_name": "Python 3"
    },
    "language_info": {
      "name": "python"
    }
  },
  "cells": [
    {
      "cell_type": "markdown",
      "source": [
        "## Imports"
      ],
      "metadata": {
        "id": "Av8gH1UmMgFv"
      }
    },
    {
      "cell_type": "code",
      "execution_count": null,
      "metadata": {
        "id": "f9-cSwbcMJc7"
      },
      "outputs": [],
      "source": [
        "# Import pandas, numpy, and matplotlib\n",
        "import pandas as pd\n",
        "import numpy as np\n",
        "import matplotlib.pyplot as plt\n",
        "\n",
        "# seaborn is a data visualization library built on matplotlib\n",
        "import seaborn as sns \n",
        "\n",
        "# set the plotting style \n",
        "sns.set_style(\"whitegrid\")\n",
        "\n",
        "# Plot missing values\n",
        "import missingno as msno"
      ]
    },
    {
      "cell_type": "markdown",
      "source": [
        "## Lab introduction"
      ],
      "metadata": {
        "id": "3600arA2CaSv"
      }
    },
    {
      "cell_type": "markdown",
      "source": [
        "Repository "
      ],
      "metadata": {
        "id": "vSjuCmPy5L3N"
      }
    },
    {
      "cell_type": "markdown",
      "source": [
        "https://github.com/ahuwiler15/co2emissions/blob/d51d0ac568cb3c0d0fe82f76dd0bacf5549977f4/README.md"
      ],
      "metadata": {
        "id": "wDUD8nPx5J9A"
      }
    },
    {
      "cell_type": "markdown",
      "source": [
        "Use the greenhouse gas emission data set owid-co2-data.csv from Our World in Data to describe how the emission levels of the current top 10 CO2 emitters have changed over the last 50 years (1971 - 2020). \n",
        "\n"
      ],
      "metadata": {
        "id": "nuNtt1LwCj2t"
      }
    },
    {
      "cell_type": "markdown",
      "source": [
        "## Import and set up the data set"
      ],
      "metadata": {
        "id": "hrNAfmwpMj2L"
      }
    },
    {
      "cell_type": "markdown",
      "source": [
        "##### $\\rightarrow$ Use Pandas to load the file `owid-co2-data.csv` from https://github.com/owid/co2-data as a `DataFrame`. Name the `DataFrame` `df`."
      ],
      "metadata": {
        "id": "aQxUj8ChtEGr"
      }
    },
    {
      "cell_type": "code",
      "source": [
        "df = pd.read_csv('https://raw.githubusercontent.com/owid/co2-data/master/owid-co2-data.csv')"
      ],
      "metadata": {
        "id": "ed-t80YKEhqa"
      },
      "execution_count": null,
      "outputs": []
    },
    {
      "cell_type": "code",
      "source": [
        "df"
      ],
      "metadata": {
        "colab": {
          "base_uri": "https://localhost:8080/",
          "height": 483
        },
        "id": "kc9BUX_BEvF0",
        "outputId": "41845861-a0c4-4753-81fd-8d6b9f271f1d"
      },
      "execution_count": null,
      "outputs": [
        {
          "output_type": "execute_result",
          "data": {
            "text/plain": [
              "           country  year iso_code  population           gdp  cement_co2  \\\n",
              "0      Afghanistan  1850      AFG   3752993.0           NaN         NaN   \n",
              "1      Afghanistan  1851      AFG   3769828.0           NaN         NaN   \n",
              "2      Afghanistan  1852      AFG   3787706.0           NaN         NaN   \n",
              "3      Afghanistan  1853      AFG   3806634.0           NaN         NaN   \n",
              "4      Afghanistan  1854      AFG   3825655.0           NaN         NaN   \n",
              "...            ...   ...      ...         ...           ...         ...   \n",
              "46518     Zimbabwe  2017      ZWE  14751101.0  2.194784e+10       0.469   \n",
              "46519     Zimbabwe  2018      ZWE  15052191.0  2.271535e+10       0.558   \n",
              "46520     Zimbabwe  2019      ZWE  15354606.0           NaN       0.570   \n",
              "46521     Zimbabwe  2020      ZWE  15669663.0           NaN       0.570   \n",
              "46522     Zimbabwe  2021      ZWE  15993525.0           NaN       0.570   \n",
              "\n",
              "       cement_co2_per_capita     co2  co2_growth_abs  co2_growth_prct  ...  \\\n",
              "0                        NaN     NaN             NaN              NaN  ...   \n",
              "1                        NaN     NaN             NaN              NaN  ...   \n",
              "2                        NaN     NaN             NaN              NaN  ...   \n",
              "3                        NaN     NaN             NaN              NaN  ...   \n",
              "4                        NaN     NaN             NaN              NaN  ...   \n",
              "...                      ...     ...             ...              ...  ...   \n",
              "46518                  0.032   9.596          -0.937           -8.899  ...   \n",
              "46519                  0.037  11.795           2.199           22.920  ...   \n",
              "46520                  0.037  11.115          -0.681           -5.772  ...   \n",
              "46521                  0.036  10.608          -0.507           -4.559  ...   \n",
              "46522                  0.036  11.296           0.688            6.488  ...   \n",
              "\n",
              "       share_global_cumulative_other_co2  share_global_flaring_co2  \\\n",
              "0                                    NaN                       NaN   \n",
              "1                                    NaN                       NaN   \n",
              "2                                    NaN                       NaN   \n",
              "3                                    NaN                       NaN   \n",
              "4                                    NaN                       NaN   \n",
              "...                                  ...                       ...   \n",
              "46518                                NaN                       0.0   \n",
              "46519                                NaN                       0.0   \n",
              "46520                                NaN                       0.0   \n",
              "46521                                NaN                       0.0   \n",
              "46522                                NaN                       0.0   \n",
              "\n",
              "       share_global_gas_co2  share_global_luc_co2  share_global_oil_co2  \\\n",
              "0                       NaN                 0.121                   NaN   \n",
              "1                       NaN                 0.118                   NaN   \n",
              "2                       NaN                 0.116                   NaN   \n",
              "3                       NaN                 0.115                   NaN   \n",
              "4                       NaN                 0.114                   NaN   \n",
              "...                     ...                   ...                   ...   \n",
              "46518                   0.0                 0.219                 0.026   \n",
              "46519                   0.0                 0.211                 0.033   \n",
              "46520                   0.0                 0.183                 0.030   \n",
              "46521                   0.0                 0.194                 0.030   \n",
              "46522                   0.0                 0.190                 0.030   \n",
              "\n",
              "       share_global_other_co2  total_ghg  total_ghg_excluding_lucf  trade_co2  \\\n",
              "0                         NaN        NaN                       NaN        NaN   \n",
              "1                         NaN        NaN                       NaN        NaN   \n",
              "2                         NaN        NaN                       NaN        NaN   \n",
              "3                         NaN        NaN                       NaN        NaN   \n",
              "4                         NaN        NaN                       NaN        NaN   \n",
              "...                       ...        ...                       ...        ...   \n",
              "46518                     NaN     115.59                     28.30      0.910   \n",
              "46519                     NaN     118.22                     30.83      0.771   \n",
              "46520                     NaN     117.96                     30.53      0.978   \n",
              "46521                     NaN        NaN                       NaN      1.006   \n",
              "46522                     NaN        NaN                       NaN        NaN   \n",
              "\n",
              "       trade_co2_share  \n",
              "0                  NaN  \n",
              "1                  NaN  \n",
              "2                  NaN  \n",
              "3                  NaN  \n",
              "4                  NaN  \n",
              "...                ...  \n",
              "46518            9.486  \n",
              "46519            6.537  \n",
              "46520            8.795  \n",
              "46521            9.481  \n",
              "46522              NaN  \n",
              "\n",
              "[46523 rows x 74 columns]"
            ],
            "text/html": [
              "\n",
              "  <div id=\"df-9c6ac249-c030-476a-8837-ea06dcffa9c1\">\n",
              "    <div class=\"colab-df-container\">\n",
              "      <div>\n",
              "<style scoped>\n",
              "    .dataframe tbody tr th:only-of-type {\n",
              "        vertical-align: middle;\n",
              "    }\n",
              "\n",
              "    .dataframe tbody tr th {\n",
              "        vertical-align: top;\n",
              "    }\n",
              "\n",
              "    .dataframe thead th {\n",
              "        text-align: right;\n",
              "    }\n",
              "</style>\n",
              "<table border=\"1\" class=\"dataframe\">\n",
              "  <thead>\n",
              "    <tr style=\"text-align: right;\">\n",
              "      <th></th>\n",
              "      <th>country</th>\n",
              "      <th>year</th>\n",
              "      <th>iso_code</th>\n",
              "      <th>population</th>\n",
              "      <th>gdp</th>\n",
              "      <th>cement_co2</th>\n",
              "      <th>cement_co2_per_capita</th>\n",
              "      <th>co2</th>\n",
              "      <th>co2_growth_abs</th>\n",
              "      <th>co2_growth_prct</th>\n",
              "      <th>...</th>\n",
              "      <th>share_global_cumulative_other_co2</th>\n",
              "      <th>share_global_flaring_co2</th>\n",
              "      <th>share_global_gas_co2</th>\n",
              "      <th>share_global_luc_co2</th>\n",
              "      <th>share_global_oil_co2</th>\n",
              "      <th>share_global_other_co2</th>\n",
              "      <th>total_ghg</th>\n",
              "      <th>total_ghg_excluding_lucf</th>\n",
              "      <th>trade_co2</th>\n",
              "      <th>trade_co2_share</th>\n",
              "    </tr>\n",
              "  </thead>\n",
              "  <tbody>\n",
              "    <tr>\n",
              "      <th>0</th>\n",
              "      <td>Afghanistan</td>\n",
              "      <td>1850</td>\n",
              "      <td>AFG</td>\n",
              "      <td>3752993.0</td>\n",
              "      <td>NaN</td>\n",
              "      <td>NaN</td>\n",
              "      <td>NaN</td>\n",
              "      <td>NaN</td>\n",
              "      <td>NaN</td>\n",
              "      <td>NaN</td>\n",
              "      <td>...</td>\n",
              "      <td>NaN</td>\n",
              "      <td>NaN</td>\n",
              "      <td>NaN</td>\n",
              "      <td>0.121</td>\n",
              "      <td>NaN</td>\n",
              "      <td>NaN</td>\n",
              "      <td>NaN</td>\n",
              "      <td>NaN</td>\n",
              "      <td>NaN</td>\n",
              "      <td>NaN</td>\n",
              "    </tr>\n",
              "    <tr>\n",
              "      <th>1</th>\n",
              "      <td>Afghanistan</td>\n",
              "      <td>1851</td>\n",
              "      <td>AFG</td>\n",
              "      <td>3769828.0</td>\n",
              "      <td>NaN</td>\n",
              "      <td>NaN</td>\n",
              "      <td>NaN</td>\n",
              "      <td>NaN</td>\n",
              "      <td>NaN</td>\n",
              "      <td>NaN</td>\n",
              "      <td>...</td>\n",
              "      <td>NaN</td>\n",
              "      <td>NaN</td>\n",
              "      <td>NaN</td>\n",
              "      <td>0.118</td>\n",
              "      <td>NaN</td>\n",
              "      <td>NaN</td>\n",
              "      <td>NaN</td>\n",
              "      <td>NaN</td>\n",
              "      <td>NaN</td>\n",
              "      <td>NaN</td>\n",
              "    </tr>\n",
              "    <tr>\n",
              "      <th>2</th>\n",
              "      <td>Afghanistan</td>\n",
              "      <td>1852</td>\n",
              "      <td>AFG</td>\n",
              "      <td>3787706.0</td>\n",
              "      <td>NaN</td>\n",
              "      <td>NaN</td>\n",
              "      <td>NaN</td>\n",
              "      <td>NaN</td>\n",
              "      <td>NaN</td>\n",
              "      <td>NaN</td>\n",
              "      <td>...</td>\n",
              "      <td>NaN</td>\n",
              "      <td>NaN</td>\n",
              "      <td>NaN</td>\n",
              "      <td>0.116</td>\n",
              "      <td>NaN</td>\n",
              "      <td>NaN</td>\n",
              "      <td>NaN</td>\n",
              "      <td>NaN</td>\n",
              "      <td>NaN</td>\n",
              "      <td>NaN</td>\n",
              "    </tr>\n",
              "    <tr>\n",
              "      <th>3</th>\n",
              "      <td>Afghanistan</td>\n",
              "      <td>1853</td>\n",
              "      <td>AFG</td>\n",
              "      <td>3806634.0</td>\n",
              "      <td>NaN</td>\n",
              "      <td>NaN</td>\n",
              "      <td>NaN</td>\n",
              "      <td>NaN</td>\n",
              "      <td>NaN</td>\n",
              "      <td>NaN</td>\n",
              "      <td>...</td>\n",
              "      <td>NaN</td>\n",
              "      <td>NaN</td>\n",
              "      <td>NaN</td>\n",
              "      <td>0.115</td>\n",
              "      <td>NaN</td>\n",
              "      <td>NaN</td>\n",
              "      <td>NaN</td>\n",
              "      <td>NaN</td>\n",
              "      <td>NaN</td>\n",
              "      <td>NaN</td>\n",
              "    </tr>\n",
              "    <tr>\n",
              "      <th>4</th>\n",
              "      <td>Afghanistan</td>\n",
              "      <td>1854</td>\n",
              "      <td>AFG</td>\n",
              "      <td>3825655.0</td>\n",
              "      <td>NaN</td>\n",
              "      <td>NaN</td>\n",
              "      <td>NaN</td>\n",
              "      <td>NaN</td>\n",
              "      <td>NaN</td>\n",
              "      <td>NaN</td>\n",
              "      <td>...</td>\n",
              "      <td>NaN</td>\n",
              "      <td>NaN</td>\n",
              "      <td>NaN</td>\n",
              "      <td>0.114</td>\n",
              "      <td>NaN</td>\n",
              "      <td>NaN</td>\n",
              "      <td>NaN</td>\n",
              "      <td>NaN</td>\n",
              "      <td>NaN</td>\n",
              "      <td>NaN</td>\n",
              "    </tr>\n",
              "    <tr>\n",
              "      <th>...</th>\n",
              "      <td>...</td>\n",
              "      <td>...</td>\n",
              "      <td>...</td>\n",
              "      <td>...</td>\n",
              "      <td>...</td>\n",
              "      <td>...</td>\n",
              "      <td>...</td>\n",
              "      <td>...</td>\n",
              "      <td>...</td>\n",
              "      <td>...</td>\n",
              "      <td>...</td>\n",
              "      <td>...</td>\n",
              "      <td>...</td>\n",
              "      <td>...</td>\n",
              "      <td>...</td>\n",
              "      <td>...</td>\n",
              "      <td>...</td>\n",
              "      <td>...</td>\n",
              "      <td>...</td>\n",
              "      <td>...</td>\n",
              "      <td>...</td>\n",
              "    </tr>\n",
              "    <tr>\n",
              "      <th>46518</th>\n",
              "      <td>Zimbabwe</td>\n",
              "      <td>2017</td>\n",
              "      <td>ZWE</td>\n",
              "      <td>14751101.0</td>\n",
              "      <td>2.194784e+10</td>\n",
              "      <td>0.469</td>\n",
              "      <td>0.032</td>\n",
              "      <td>9.596</td>\n",
              "      <td>-0.937</td>\n",
              "      <td>-8.899</td>\n",
              "      <td>...</td>\n",
              "      <td>NaN</td>\n",
              "      <td>0.0</td>\n",
              "      <td>0.0</td>\n",
              "      <td>0.219</td>\n",
              "      <td>0.026</td>\n",
              "      <td>NaN</td>\n",
              "      <td>115.59</td>\n",
              "      <td>28.30</td>\n",
              "      <td>0.910</td>\n",
              "      <td>9.486</td>\n",
              "    </tr>\n",
              "    <tr>\n",
              "      <th>46519</th>\n",
              "      <td>Zimbabwe</td>\n",
              "      <td>2018</td>\n",
              "      <td>ZWE</td>\n",
              "      <td>15052191.0</td>\n",
              "      <td>2.271535e+10</td>\n",
              "      <td>0.558</td>\n",
              "      <td>0.037</td>\n",
              "      <td>11.795</td>\n",
              "      <td>2.199</td>\n",
              "      <td>22.920</td>\n",
              "      <td>...</td>\n",
              "      <td>NaN</td>\n",
              "      <td>0.0</td>\n",
              "      <td>0.0</td>\n",
              "      <td>0.211</td>\n",
              "      <td>0.033</td>\n",
              "      <td>NaN</td>\n",
              "      <td>118.22</td>\n",
              "      <td>30.83</td>\n",
              "      <td>0.771</td>\n",
              "      <td>6.537</td>\n",
              "    </tr>\n",
              "    <tr>\n",
              "      <th>46520</th>\n",
              "      <td>Zimbabwe</td>\n",
              "      <td>2019</td>\n",
              "      <td>ZWE</td>\n",
              "      <td>15354606.0</td>\n",
              "      <td>NaN</td>\n",
              "      <td>0.570</td>\n",
              "      <td>0.037</td>\n",
              "      <td>11.115</td>\n",
              "      <td>-0.681</td>\n",
              "      <td>-5.772</td>\n",
              "      <td>...</td>\n",
              "      <td>NaN</td>\n",
              "      <td>0.0</td>\n",
              "      <td>0.0</td>\n",
              "      <td>0.183</td>\n",
              "      <td>0.030</td>\n",
              "      <td>NaN</td>\n",
              "      <td>117.96</td>\n",
              "      <td>30.53</td>\n",
              "      <td>0.978</td>\n",
              "      <td>8.795</td>\n",
              "    </tr>\n",
              "    <tr>\n",
              "      <th>46521</th>\n",
              "      <td>Zimbabwe</td>\n",
              "      <td>2020</td>\n",
              "      <td>ZWE</td>\n",
              "      <td>15669663.0</td>\n",
              "      <td>NaN</td>\n",
              "      <td>0.570</td>\n",
              "      <td>0.036</td>\n",
              "      <td>10.608</td>\n",
              "      <td>-0.507</td>\n",
              "      <td>-4.559</td>\n",
              "      <td>...</td>\n",
              "      <td>NaN</td>\n",
              "      <td>0.0</td>\n",
              "      <td>0.0</td>\n",
              "      <td>0.194</td>\n",
              "      <td>0.030</td>\n",
              "      <td>NaN</td>\n",
              "      <td>NaN</td>\n",
              "      <td>NaN</td>\n",
              "      <td>1.006</td>\n",
              "      <td>9.481</td>\n",
              "    </tr>\n",
              "    <tr>\n",
              "      <th>46522</th>\n",
              "      <td>Zimbabwe</td>\n",
              "      <td>2021</td>\n",
              "      <td>ZWE</td>\n",
              "      <td>15993525.0</td>\n",
              "      <td>NaN</td>\n",
              "      <td>0.570</td>\n",
              "      <td>0.036</td>\n",
              "      <td>11.296</td>\n",
              "      <td>0.688</td>\n",
              "      <td>6.488</td>\n",
              "      <td>...</td>\n",
              "      <td>NaN</td>\n",
              "      <td>0.0</td>\n",
              "      <td>0.0</td>\n",
              "      <td>0.190</td>\n",
              "      <td>0.030</td>\n",
              "      <td>NaN</td>\n",
              "      <td>NaN</td>\n",
              "      <td>NaN</td>\n",
              "      <td>NaN</td>\n",
              "      <td>NaN</td>\n",
              "    </tr>\n",
              "  </tbody>\n",
              "</table>\n",
              "<p>46523 rows × 74 columns</p>\n",
              "</div>\n",
              "      <button class=\"colab-df-convert\" onclick=\"convertToInteractive('df-9c6ac249-c030-476a-8837-ea06dcffa9c1')\"\n",
              "              title=\"Convert this dataframe to an interactive table.\"\n",
              "              style=\"display:none;\">\n",
              "        \n",
              "  <svg xmlns=\"http://www.w3.org/2000/svg\" height=\"24px\"viewBox=\"0 0 24 24\"\n",
              "       width=\"24px\">\n",
              "    <path d=\"M0 0h24v24H0V0z\" fill=\"none\"/>\n",
              "    <path d=\"M18.56 5.44l.94 2.06.94-2.06 2.06-.94-2.06-.94-.94-2.06-.94 2.06-2.06.94zm-11 1L8.5 8.5l.94-2.06 2.06-.94-2.06-.94L8.5 2.5l-.94 2.06-2.06.94zm10 10l.94 2.06.94-2.06 2.06-.94-2.06-.94-.94-2.06-.94 2.06-2.06.94z\"/><path d=\"M17.41 7.96l-1.37-1.37c-.4-.4-.92-.59-1.43-.59-.52 0-1.04.2-1.43.59L10.3 9.45l-7.72 7.72c-.78.78-.78 2.05 0 2.83L4 21.41c.39.39.9.59 1.41.59.51 0 1.02-.2 1.41-.59l7.78-7.78 2.81-2.81c.8-.78.8-2.07 0-2.86zM5.41 20L4 18.59l7.72-7.72 1.47 1.35L5.41 20z\"/>\n",
              "  </svg>\n",
              "      </button>\n",
              "      \n",
              "  <style>\n",
              "    .colab-df-container {\n",
              "      display:flex;\n",
              "      flex-wrap:wrap;\n",
              "      gap: 12px;\n",
              "    }\n",
              "\n",
              "    .colab-df-convert {\n",
              "      background-color: #E8F0FE;\n",
              "      border: none;\n",
              "      border-radius: 50%;\n",
              "      cursor: pointer;\n",
              "      display: none;\n",
              "      fill: #1967D2;\n",
              "      height: 32px;\n",
              "      padding: 0 0 0 0;\n",
              "      width: 32px;\n",
              "    }\n",
              "\n",
              "    .colab-df-convert:hover {\n",
              "      background-color: #E2EBFA;\n",
              "      box-shadow: 0px 1px 2px rgba(60, 64, 67, 0.3), 0px 1px 3px 1px rgba(60, 64, 67, 0.15);\n",
              "      fill: #174EA6;\n",
              "    }\n",
              "\n",
              "    [theme=dark] .colab-df-convert {\n",
              "      background-color: #3B4455;\n",
              "      fill: #D2E3FC;\n",
              "    }\n",
              "\n",
              "    [theme=dark] .colab-df-convert:hover {\n",
              "      background-color: #434B5C;\n",
              "      box-shadow: 0px 1px 3px 1px rgba(0, 0, 0, 0.15);\n",
              "      filter: drop-shadow(0px 1px 2px rgba(0, 0, 0, 0.3));\n",
              "      fill: #FFFFFF;\n",
              "    }\n",
              "  </style>\n",
              "\n",
              "      <script>\n",
              "        const buttonEl =\n",
              "          document.querySelector('#df-9c6ac249-c030-476a-8837-ea06dcffa9c1 button.colab-df-convert');\n",
              "        buttonEl.style.display =\n",
              "          google.colab.kernel.accessAllowed ? 'block' : 'none';\n",
              "\n",
              "        async function convertToInteractive(key) {\n",
              "          const element = document.querySelector('#df-9c6ac249-c030-476a-8837-ea06dcffa9c1');\n",
              "          const dataTable =\n",
              "            await google.colab.kernel.invokeFunction('convertToInteractive',\n",
              "                                                     [key], {});\n",
              "          if (!dataTable) return;\n",
              "\n",
              "          const docLinkHtml = 'Like what you see? Visit the ' +\n",
              "            '<a target=\"_blank\" href=https://colab.research.google.com/notebooks/data_table.ipynb>data table notebook</a>'\n",
              "            + ' to learn more about interactive tables.';\n",
              "          element.innerHTML = '';\n",
              "          dataTable['output_type'] = 'display_data';\n",
              "          await google.colab.output.renderOutput(dataTable, element);\n",
              "          const docLink = document.createElement('div');\n",
              "          docLink.innerHTML = docLinkHtml;\n",
              "          element.appendChild(docLink);\n",
              "        }\n",
              "      </script>\n",
              "    </div>\n",
              "  </div>\n",
              "  "
            ]
          },
          "metadata": {},
          "execution_count": 3
        }
      ]
    },
    {
      "cell_type": "markdown",
      "source": [
        "The data above is from 03/29/23"
      ],
      "metadata": {
        "id": "nC5sYFeTGmaS"
      }
    },
    {
      "cell_type": "markdown",
      "source": [
        "##### Solution"
      ],
      "metadata": {
        "id": "75igDlZQOqzQ"
      }
    },
    {
      "cell_type": "code",
      "source": [
        "type(df)"
      ],
      "metadata": {
        "colab": {
          "base_uri": "https://localhost:8080/"
        },
        "id": "8h85UrbyE4fq",
        "outputId": "9fb5a1be-9556-424d-b2bd-57cbc1288677"
      },
      "execution_count": null,
      "outputs": [
        {
          "output_type": "execute_result",
          "data": {
            "text/plain": [
              "pandas.core.frame.DataFrame"
            ]
          },
          "metadata": {},
          "execution_count": 5
        }
      ]
    },
    {
      "cell_type": "markdown",
      "source": [
        "Consult the [codebook](https://github.com/owid/co2-data/blob/master/owid-co2-codebook.csv) to see the description of each column.\n",
        "\n"
      ],
      "metadata": {
        "id": "jZAaO4glOZC1"
      }
    },
    {
      "cell_type": "markdown",
      "source": [
        "##### $\\rightarrow$ Select the rows corresponding to individual countries "
      ],
      "metadata": {
        "id": "oQvGwApO35VP"
      }
    },
    {
      "cell_type": "code",
      "source": [
        "df['country']"
      ],
      "metadata": {
        "colab": {
          "base_uri": "https://localhost:8080/"
        },
        "id": "RhIc9jDGFmBs",
        "outputId": "f2c42f64-e8e7-4eae-98cb-9c5a00504c02"
      },
      "execution_count": null,
      "outputs": [
        {
          "output_type": "execute_result",
          "data": {
            "text/plain": [
              "0        Afghanistan\n",
              "1        Afghanistan\n",
              "2        Afghanistan\n",
              "3        Afghanistan\n",
              "4        Afghanistan\n",
              "            ...     \n",
              "46518       Zimbabwe\n",
              "46519       Zimbabwe\n",
              "46520       Zimbabwe\n",
              "46521       Zimbabwe\n",
              "46522       Zimbabwe\n",
              "Name: country, Length: 46523, dtype: object"
            ]
          },
          "metadata": {},
          "execution_count": 6
        }
      ]
    },
    {
      "cell_type": "markdown",
      "source": [
        "The `country` column of the data set contains some values that are groups of countries. We will remove these observations from the data set."
      ],
      "metadata": {
        "id": "CoBCrqDQK8RF"
      }
    },
    {
      "cell_type": "code",
      "source": [
        "non_countries = ['Africa', 'Africa (GCP)', 'Asia', 'Asia (GCP)', 'Asia (excl. China and India)', 'Central America (GCP)',\n",
        "                  'EU-27', 'Europe', 'Europe (excl. EU-27)', 'European Union (27) (GCP)', 'Europe (GCP)',\n",
        "                  'Europe (excl. EU-28)', 'European Union (27)', \n",
        "                  'European Union (28)', 'French Equatorial Africa', \n",
        "                  'French Guiana', 'French Polynesia', 'French West Africa',\n",
        "                  'High-income countries', 'International transport', \n",
        "                  'Low-income countries', 'Lower-middle-income countries', 'Mayotte', 'Middle East (GCP)',\n",
        "                  'Non-OECD (GCP)',\n",
        "                  'North America',  'North America (excl. USA)', 'North America (GCP)',\n",
        "                  'Oceania (GCP)', 'OECD (GCP)', \n",
        "                  'Panama Canal Zone','South America', 'South America (GCP)', 'Upper-middle-income countries', \n",
        "                  'World']"
      ],
      "metadata": {
        "id": "eD0vOVGQkTHq"
      },
      "execution_count": null,
      "outputs": []
    },
    {
      "cell_type": "markdown",
      "source": [
        "Remove the rows corresponding to the non-countries."
      ],
      "metadata": {
        "id": "8gJuF0O9LoPY"
      }
    },
    {
      "cell_type": "code",
      "source": [
        "df = df.loc[df['country'].isin(non_countries) == False]"
      ],
      "metadata": {
        "colab": {
          "base_uri": "https://localhost:8080/",
          "height": 164
        },
        "id": "wjM6u6qPHoMm",
        "outputId": "b798dd4d-0ea4-4c11-a826-f2d36a5e725c"
      },
      "execution_count": null,
      "outputs": [
        {
          "output_type": "error",
          "ename": "NameError",
          "evalue": "ignored",
          "traceback": [
            "\u001b[0;31m---------------------------------------------------------------------------\u001b[0m",
            "\u001b[0;31mNameError\u001b[0m                                 Traceback (most recent call last)",
            "\u001b[0;32m<ipython-input-12-cddc59019112>\u001b[0m in \u001b[0;36m<cell line: 1>\u001b[0;34m()\u001b[0m\n\u001b[0;32m----> 1\u001b[0;31m \u001b[0mdf\u001b[0m \u001b[0;34m=\u001b[0m \u001b[0mdf\u001b[0m\u001b[0;34m.\u001b[0m\u001b[0mloc\u001b[0m\u001b[0;34m[\u001b[0m\u001b[0mdf\u001b[0m\u001b[0;34m[\u001b[0m\u001b[0;34m'country'\u001b[0m\u001b[0;34m]\u001b[0m\u001b[0;34m.\u001b[0m\u001b[0misin\u001b[0m\u001b[0;34m(\u001b[0m\u001b[0mnon_countries\u001b[0m\u001b[0;34m)\u001b[0m \u001b[0;34m==\u001b[0m \u001b[0;32mFalse\u001b[0m\u001b[0;34m]\u001b[0m\u001b[0;34m\u001b[0m\u001b[0;34m\u001b[0m\u001b[0m\n\u001b[0m",
            "\u001b[0;31mNameError\u001b[0m: name 'non_countries' is not defined"
          ]
        }
      ]
    },
    {
      "cell_type": "markdown",
      "source": [
        "## Explore the data set"
      ],
      "metadata": {
        "id": "9_VL9S0ZL8eJ"
      }
    },
    {
      "cell_type": "markdown",
      "source": [
        "##### $\\rightarrow$ Display the head of the data frame"
      ],
      "metadata": {
        "id": "q6694yBOMD3F"
      }
    },
    {
      "cell_type": "markdown",
      "source": [
        "##### Solution"
      ],
      "metadata": {
        "id": "QwTFcX-IOpH9"
      }
    },
    {
      "cell_type": "markdown",
      "source": [
        "##### $\\rightarrow$ Use the `info` method further explore the data.\n",
        "1.  Are there any columns where the data type is obviously incorrect? For example, is there a variable that should be a number, but is coded as a string?\n",
        "2.  Do any of the columns have missing (null) values?"
      ],
      "metadata": {
        "id": "1HQFuZbmNCfO"
      }
    },
    {
      "cell_type": "markdown",
      "source": [
        "##### Solution"
      ],
      "metadata": {
        "id": "Kt-vodi7OoKB"
      }
    },
    {
      "cell_type": "markdown",
      "source": [
        "##### $\\rightarrow$ What years are present in the data set?"
      ],
      "metadata": {
        "id": "f89ETnavWcPa"
      }
    },
    {
      "cell_type": "markdown",
      "source": [
        "##### Solution"
      ],
      "metadata": {
        "id": "yUQLOAJrXGNk"
      }
    },
    {
      "cell_type": "markdown",
      "source": [
        "## Analysis of top emissions in 2020"
      ],
      "metadata": {
        "id": "GmVvf18573HS"
      }
    },
    {
      "cell_type": "markdown",
      "metadata": {
        "id": "2kwe790ATm0S"
      },
      "source": [
        "##### $\\rightarrow$ Find the top 10 emitters of total CO$_2$ in 2020.\n",
        "\n"
      ]
    },
    {
      "cell_type": "markdown",
      "source": [
        "##### Solution"
      ],
      "metadata": {
        "id": "aCS-tOXPZC4W"
      }
    },
    {
      "cell_type": "markdown",
      "source": [
        "##### $\\rightarrow$ Make a histogram of total CO$_2$ emissions in 2020. Make the plot on a density scale."
      ],
      "metadata": {
        "id": "Efky-9yTe3lG"
      }
    },
    {
      "cell_type": "markdown",
      "source": [
        "##### Solution"
      ],
      "metadata": {
        "id": "8A_SQ6jblun4"
      }
    },
    {
      "cell_type": "markdown",
      "source": [
        "##### $\\rightarrow$ Make a boxplot of total CO$_2$ emissions in 2020. Add a strip plot on top of the boxplot."
      ],
      "metadata": {
        "id": "celYP5XTeWqF"
      }
    },
    {
      "cell_type": "markdown",
      "source": [
        "##### Solution"
      ],
      "metadata": {
        "id": "hIVTfC9AlvOg"
      }
    },
    {
      "cell_type": "markdown",
      "source": [
        "##### $\\rightarrow$ Are the CO$_2$ emissions of the top 10 emitters in 2020 outliers in the distribution?"
      ],
      "metadata": {
        "id": "_c8wgaqjttmv"
      }
    },
    {
      "cell_type": "markdown",
      "source": [
        "##### Solution"
      ],
      "metadata": {
        "id": "su0jIszbt5GJ"
      }
    },
    {
      "cell_type": "markdown",
      "source": [
        "## Emission trend over time"
      ],
      "metadata": {
        "id": "O54iekf42lUR"
      }
    },
    {
      "cell_type": "markdown",
      "source": [
        "##### $\\rightarrow$ Is the data set missing any CO$_2$ emission values for the top 10 emitters in 2020 over the years 1971 to 2020?"
      ],
      "metadata": {
        "id": "TCxt51aq2q2a"
      }
    },
    {
      "cell_type": "markdown",
      "source": [
        "##### Solution"
      ],
      "metadata": {
        "id": "kYwe4Fi42442"
      }
    },
    {
      "cell_type": "markdown",
      "source": [
        "##### $\\rightarrow$ Plot the time plot of the total CO$_2$ emissions from 1971 to 2020 for the top 10 emitters in 2020."
      ],
      "metadata": {
        "id": "D1zXZpkHW-rt"
      }
    },
    {
      "cell_type": "markdown",
      "source": [
        "##### Solution"
      ],
      "metadata": {
        "id": "ejVOrFd73U_k"
      }
    },
    {
      "cell_type": "markdown",
      "source": [
        "##### $\\rightarrow$ Again, plot the time plot of the total CO$_2$ emissions from 1971 to 2020 for the top 10 emitters in 2020, but now also include a plot of the mean total CO$_2$ emissions over all countries on the same plot."
      ],
      "metadata": {
        "id": "wUbmtc5PYpqF"
      }
    },
    {
      "cell_type": "markdown",
      "source": [
        "##### Solution"
      ],
      "metadata": {
        "id": "0a4JaJuZ3XrK"
      }
    },
    {
      "cell_type": "markdown",
      "source": [
        "##### $\\rightarrow$ Given the large difference between the smallest and largest values, it can help to plot the results on a log scale. Produce the plot of the top 10 emitters and the mean with CO$_2$ emissions on a log scale."
      ],
      "metadata": {
        "id": "SPzueyq4cyXK"
      }
    },
    {
      "cell_type": "markdown",
      "source": [
        "##### Solution"
      ],
      "metadata": {
        "id": "B4MDs4FZlyLg"
      }
    },
    {
      "cell_type": "markdown",
      "source": [
        "##### $\\rightarrow$ Comment on the trend in CO$_2$ emissions from these countries over the last 50 years."
      ],
      "metadata": {
        "id": "bnoVsmMtitYN"
      }
    },
    {
      "cell_type": "markdown",
      "source": [
        "##### Solution"
      ],
      "metadata": {
        "id": "pf0I9hgZlYvb"
      }
    }
  ]
}